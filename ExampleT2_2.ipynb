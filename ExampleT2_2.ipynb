{
 "cells": [
  {
   "cell_type": "code",
   "execution_count": 1,
   "id": "foreign-april",
   "metadata": {},
   "outputs": [],
   "source": [
    "import qcodes as qc\n",
    "import broadbean as bb\n",
    "import logging\n",
    "import os\n",
    "import tempfile\n",
    "from sequence_builder import SequenceBuilder\n",
    "from broadbean.plotting import plotter\n",
    "from alazar_config import alazarconfigttwo\n",
    "from alazar_config import alazarconfig\n",
    "import numpy as np\n",
    "import matplotlib.pyplot as plt\n",
    "from qcodes.station import Station\n",
    "from qcodes.utils.dataset.doNd import do0d, do1d\n",
    "from qcodes import initialise_or_create_database_at, \\\n",
    "    load_or_create_experiment, Measurement, Parameter, \\\n",
    "    Station\n",
    "from qcodes.dataset.plotting import plot_by_id\n",
    "\n",
    "\n",
    "logging.basicConfig(level=logging.INFO)"
   ]
  },
  {
   "cell_type": "code",
   "execution_count": 2,
   "id": "colonial-diagram",
   "metadata": {},
   "outputs": [],
   "source": [
    "db_path = os.path.join(tempfile.gettempdir(),\n",
    "                       'data_access_example.db')\n",
    "initialise_or_create_database_at(db_path)\n",
    "\n",
    "experiment = load_or_create_experiment(\n",
    "    experiment_name='alazar',\n",
    "    sample_name='alazar-sample')"
   ]
  },
  {
   "cell_type": "code",
   "execution_count": 3,
   "id": "internal-share",
   "metadata": {},
   "outputs": [
    {
     "name": "stderr",
     "output_type": "stream",
     "text": [
      "c:\\users\\t2_2\\miniconda3\\envs\\broadbean\\lib\\site-packages\\qcodes\\station.py:359: ValidationWarning: Additional properties are not allowed ('auto_reconnect_instrument' was unexpected)\n",
      "\n",
      "Failed validating 'additionalProperties' in schema['properties']['instruments']['patternProperties']['^\\\\w+$']:\n",
      "    {'additionalProperties': False,\n",
      "     'properties': {'add_parameters': {'additionalProperties': False,\n",
      "                                       'patternProperties': {'^(\\\\w+)(\\\\.\\\\w+)*$': {'additionalProperties': False,\n",
      "                                                                                    'properties': {'initial_value': {},\n",
      "                                                                                                   'inter_delay': {'type': 'number'},\n",
      "                                                                                                   'label': {'type': 'string'},\n",
      "                                                                                                   'limits': {'additionalItems': False,\n",
      "                                                                                                              'items': [{'type': 'number'},\n",
      "                                                                                                                        {'type': 'number'}],\n",
      "                                                                                                              'maxItems': 2,\n",
      "                                                                                                              'minItems': 2,\n",
      "                                                                                                              'type': ['array',\n",
      "                                                                                                                       'string']},\n",
      "                                                                                                   'monitor': {'type': 'boolean'},\n",
      "                                                                                                   'offset': {'type': 'number'},\n",
      "                                                                                                   'post_delay': {'type': 'number'},\n",
      "                                                                                                   'scale': {'type': 'number'},\n",
      "                                                                                                   'source': {'pattern': '^(\\\\w+)(\\\\.\\\\w+)*$',\n",
      "                                                                                                              'type': 'string'},\n",
      "                                                                                                   'step': {'type': 'number'},\n",
      "                                                                                                   'unit': {'type': 'string'}},\n",
      "                                                                                    'type': 'object'}},\n",
      "                                       'type': 'object'},\n",
      "                    'address': {'type': 'string'},\n",
      "                    'driver': {'description': 'Deprecated. Append '\n",
      "                                              \"'driver'-value to 'type' \"\n",
      "                                              'field instead.',\n",
      "                               'type': 'string'},\n",
      "                    'enable_forced_reconnect': {'type': 'boolean'},\n",
      "                    'init': {'type': 'object'},\n",
      "                    'parameters': {'additionalProperties': False,\n",
      "                                   'patternProperties': {'^(\\\\w+)(\\\\.\\\\w+)*$': {'additionalProperties': False,\n",
      "                                                                                'properties': {'alias': {'pattern': '^\\\\w+$',\n",
      "                                                                                                         'type': 'string'},\n",
      "                                                                                               'initial_value': {},\n",
      "                                                                                               'inter_delay': {'type': 'number'},\n",
      "                                                                                               'label': {'type': 'string'},\n",
      "                                                                                               'limits': {'additionalItems': False,\n",
      "                                                                                                          'items': [{'type': 'number'},\n",
      "                                                                                                                    {'type': 'number'}],\n",
      "                                                                                                          'maxItems': 2,\n",
      "                                                                                                          'minItems': 2,\n",
      "                                                                                                          'type': ['array',\n",
      "                                                                                                                   'string']},\n",
      "                                                                                               'monitor': {'type': 'boolean'},\n",
      "                                                                                               'offset': {'type': 'number'},\n",
      "                                                                                               'post_delay': {'type': 'number'},\n",
      "                                                                                               'scale': {'type': 'number'},\n",
      "                                                                                               'step': {'type': 'number'},\n",
      "                                                                                               'unit': {'type': 'string'}},\n",
      "                                                                                'type': 'object'}},\n",
      "                                   'type': 'object'},\n",
      "                    'port': {'type': 'integer'},\n",
      "                    'type': {'anyOf': [{'pattern': '^(\\\\w+)(\\\\.\\\\w+)*$'},\n",
      "                                       {'$ref': '#/definitions/instruments'}],\n",
      "                             'type': 'string'}},\n",
      "     'required': ['type'],\n",
      "     'type': 'object'}\n",
      "\n",
      "On instance['instruments']['rs_vna_spec']:\n",
      "    {'address': 'TCPIP0::192.168.15.118::inst0::INSTR',\n",
      "     'auto_reconnect_instrument': True,\n",
      "     'driver': 'qdev_wrappers.customised_instruments.ZNB_ext',\n",
      "     'init': {'S21': True,\n",
      "              'gen_address': '192.168.15.108',\n",
      "              'spec_mode': True,\n",
      "              'timeout': 900},\n",
      "     'parameters': {'S21.avg': ordereddict([('monitor', True)]),\n",
      "                    'S21.bandwidth': ordereddict([('monitor', True)]),\n",
      "                    'S21.npts': ordereddict([('monitor', True)]),\n",
      "                    'S21.power': ordereddict([('monitor', True)]),\n",
      "                    'S21.start': ordereddict([('monitor', True)]),\n",
      "                    'S21.status': ordereddict([('monitor', True)]),\n",
      "                    'S21.stop': ordereddict([('monitor', True)])},\n",
      "     'type': 'ZNB_ext'}\n",
      "  warnings.warn(message, ValidationWarning)\n",
      "INFO:qcodes.instrument.base.com.visa:[awg5208(AWG5208)] Opening PyVISA Resource Manager with default backend.\n",
      "INFO:qcodes.instrument.base.com.visa:[awg5208(AWG5208)] Opening PyVISA resource at address: TCPIP0::192.168.15.113::inst0::INSTR\n",
      "INFO:qcodes.instrument.base:[awg5208(AWG5208)] Connected to instrument: {'vendor': 'TEKTRONIX', 'model': 'AWG5208', 'serial': 'B020204', 'firmware': 'FV:6.1.0061.0'}\n"
     ]
    },
    {
     "name": "stdout",
     "output_type": "stream",
     "text": [
      "Connected to: TEKTRONIX AWG5208 (serial:B020204, firmware:FV:6.1.0061.0) in 0.12s\n"
     ]
    },
    {
     "name": "stderr",
     "output_type": "stream",
     "text": [
      "c:\\users\\t2_2\\miniconda3\\envs\\broadbean\\lib\\site-packages\\qcodes\\station.py:359: ValidationWarning: Additional properties are not allowed ('auto_reconnect_instrument' was unexpected)\n",
      "\n",
      "Failed validating 'additionalProperties' in schema['properties']['instruments']['patternProperties']['^\\\\w+$']:\n",
      "    {'additionalProperties': False,\n",
      "     'properties': {'add_parameters': {'additionalProperties': False,\n",
      "                                       'patternProperties': {'^(\\\\w+)(\\\\.\\\\w+)*$': {'additionalProperties': False,\n",
      "                                                                                    'properties': {'initial_value': {},\n",
      "                                                                                                   'inter_delay': {'type': 'number'},\n",
      "                                                                                                   'label': {'type': 'string'},\n",
      "                                                                                                   'limits': {'additionalItems': False,\n",
      "                                                                                                              'items': [{'type': 'number'},\n",
      "                                                                                                                        {'type': 'number'}],\n",
      "                                                                                                              'maxItems': 2,\n",
      "                                                                                                              'minItems': 2,\n",
      "                                                                                                              'type': ['array',\n",
      "                                                                                                                       'string']},\n",
      "                                                                                                   'monitor': {'type': 'boolean'},\n",
      "                                                                                                   'offset': {'type': 'number'},\n",
      "                                                                                                   'post_delay': {'type': 'number'},\n",
      "                                                                                                   'scale': {'type': 'number'},\n",
      "                                                                                                   'source': {'pattern': '^(\\\\w+)(\\\\.\\\\w+)*$',\n",
      "                                                                                                              'type': 'string'},\n",
      "                                                                                                   'step': {'type': 'number'},\n",
      "                                                                                                   'unit': {'type': 'string'}},\n",
      "                                                                                    'type': 'object'}},\n",
      "                                       'type': 'object'},\n",
      "                    'address': {'type': 'string'},\n",
      "                    'driver': {'description': 'Deprecated. Append '\n",
      "                                              \"'driver'-value to 'type' \"\n",
      "                                              'field instead.',\n",
      "                               'type': 'string'},\n",
      "                    'enable_forced_reconnect': {'type': 'boolean'},\n",
      "                    'init': {'type': 'object'},\n",
      "                    'parameters': {'additionalProperties': False,\n",
      "                                   'patternProperties': {'^(\\\\w+)(\\\\.\\\\w+)*$': {'additionalProperties': False,\n",
      "                                                                                'properties': {'alias': {'pattern': '^\\\\w+$',\n",
      "                                                                                                         'type': 'string'},\n",
      "                                                                                               'initial_value': {},\n",
      "                                                                                               'inter_delay': {'type': 'number'},\n",
      "                                                                                               'label': {'type': 'string'},\n",
      "                                                                                               'limits': {'additionalItems': False,\n",
      "                                                                                                          'items': [{'type': 'number'},\n",
      "                                                                                                                    {'type': 'number'}],\n",
      "                                                                                                          'maxItems': 2,\n",
      "                                                                                                          'minItems': 2,\n",
      "                                                                                                          'type': ['array',\n",
      "                                                                                                                   'string']},\n",
      "                                                                                               'monitor': {'type': 'boolean'},\n",
      "                                                                                               'offset': {'type': 'number'},\n",
      "                                                                                               'post_delay': {'type': 'number'},\n",
      "                                                                                               'scale': {'type': 'number'},\n",
      "                                                                                               'step': {'type': 'number'},\n",
      "                                                                                               'unit': {'type': 'string'}},\n",
      "                                                                                'type': 'object'}},\n",
      "                                   'type': 'object'},\n",
      "                    'port': {'type': 'integer'},\n",
      "                    'type': {'anyOf': [{'pattern': '^(\\\\w+)(\\\\.\\\\w+)*$'},\n",
      "                                       {'$ref': '#/definitions/instruments'}],\n",
      "                             'type': 'string'}},\n",
      "     'required': ['type'],\n",
      "     'type': 'object'}\n",
      "\n",
      "On instance['instruments']['rs_vna_spec']:\n",
      "    {'address': 'TCPIP0::192.168.15.118::inst0::INSTR',\n",
      "     'auto_reconnect_instrument': True,\n",
      "     'driver': 'qdev_wrappers.customised_instruments.ZNB_ext',\n",
      "     'init': {'S21': True,\n",
      "              'gen_address': '192.168.15.108',\n",
      "              'spec_mode': True,\n",
      "              'timeout': 900},\n",
      "     'parameters': {'S21.avg': ordereddict([('monitor', True)]),\n",
      "                    'S21.bandwidth': ordereddict([('monitor', True)]),\n",
      "                    'S21.npts': ordereddict([('monitor', True)]),\n",
      "                    'S21.power': ordereddict([('monitor', True)]),\n",
      "                    'S21.start': ordereddict([('monitor', True)]),\n",
      "                    'S21.status': ordereddict([('monitor', True)]),\n",
      "                    'S21.stop': ordereddict([('monitor', True)])},\n",
      "     'type': 'ZNB_ext'}\n",
      "  warnings.warn(message, ValidationWarning)\n",
      "INFO:qcodes.instrument.base.com.visa:[rs_cavity(RohdeSchwarz_SGS100A)] Opening PyVISA Resource Manager with default backend.\n",
      "INFO:qcodes.instrument.base.com.visa:[rs_cavity(RohdeSchwarz_SGS100A)] Opening PyVISA resource at address: TCPIP0::192.168.15.105::inst0::INSTR\n",
      "INFO:qcodes.instrument.base:[rs_cavity(RohdeSchwarz_SGS100A)] Connected to instrument: {'vendor': 'Rohde&Schwarz', 'model': 'SGS100A', 'serial': '1416.0505k02/103079', 'firmware': '3.1.19.7-3.20.140.60.1'}\n"
     ]
    },
    {
     "name": "stdout",
     "output_type": "stream",
     "text": [
      "Connected to: Rohde&Schwarz SGS100A (serial:1416.0505k02/103079, firmware:3.1.19.7-3.20.140.60.1) in 0.04s\n"
     ]
    },
    {
     "name": "stderr",
     "output_type": "stream",
     "text": [
      "INFO:qcodes.instrument.base.com.visa:[rs_localos(RohdeSchwarz_SGS100A)] Opening PyVISA Resource Manager with default backend.\n",
      "INFO:qcodes.instrument.base.com.visa:[rs_localos(RohdeSchwarz_SGS100A)] Opening PyVISA resource at address: TCPIP0::192.168.15.108::inst0::INSTR\n",
      "INFO:qcodes.instrument.base:[rs_localos(RohdeSchwarz_SGS100A)] Connected to instrument: {'vendor': 'Rohde&Schwarz', 'model': 'SGS100A', 'serial': '1416.0505k02/103848', 'firmware': '3.1.19.15-3.20.347.26'}\n"
     ]
    },
    {
     "name": "stdout",
     "output_type": "stream",
     "text": [
      "Connected to: Rohde&Schwarz SGS100A (serial:1416.0505k02/103848, firmware:3.1.19.15-3.20.347.26) in 0.04s\n"
     ]
    },
    {
     "name": "stderr",
     "output_type": "stream",
     "text": [
      "INFO:qcodes.instrument.base.com.visa:[rs_qubit(RohdeSchwarz_SGS100A)] Opening PyVISA Resource Manager with default backend.\n",
      "INFO:qcodes.instrument.base.com.visa:[rs_qubit(RohdeSchwarz_SGS100A)] Opening PyVISA resource at address: TCPIP0::192.168.15.107::inst0::INSTR\n",
      "INFO:qcodes.instrument.base:[rs_qubit(RohdeSchwarz_SGS100A)] Connected to instrument: {'vendor': 'Rohde&Schwarz', 'model': 'SGS100A', 'serial': '1416.0505k02/103078', 'firmware': '3.1.19.7-3.20.140.60.1'}\n"
     ]
    },
    {
     "name": "stdout",
     "output_type": "stream",
     "text": [
      "Connected to: Rohde&Schwarz SGS100A (serial:1416.0505k02/103078, firmware:3.1.19.7-3.20.140.60.1) in 0.03s\n"
     ]
    },
    {
     "name": "stderr",
     "output_type": "stream",
     "text": [
      "INFO:qcodes.instrument.base:[minicircuits_switch(USB_SPDT)] Connected to instrument: {'vendor': 'Mini-Circuits', 'model': 'USB-4SPDT-A18', 'serial': '11608300052', 'firmware': 20}\n"
     ]
    },
    {
     "name": "stdout",
     "output_type": "stream",
     "text": [
      "Connected to: Mini-Circuits USB-4SPDT-A18 (serial:11608300052, firmware:20) in 0.11s\n"
     ]
    }
   ],
   "source": [
    "SC = qc.Station(config_file='Config.yaml')\n",
    "AWGB = SC.load_instrument('awg5208')\n",
    "seqbuild = SequenceBuilder(name = 'seqbuild', awg=AWGB)\n",
    "SC.add_component(seqbuild)\n",
    "alazar = SC.load_instrument('alazar')\n",
    "#Salazarconfigttwo(alazar)\n",
    "alazarconfig(alazar)\n",
    "alazar_ctrl = SC.load_instrument('alazar_ctrl')\n",
    "channelA = SC.load_instrument('channelA',parent=alazar_ctrl)\n",
    "#channelA2 = SC.load_instrument('channelA2',parent=alazar_ctrl)\n",
    "#channelA_phase = SC.load_instrument('channelA_phase',parent=alazar_ctrl)\n",
    "#channelA_magnitude = SC.load_instrument('channelA_magnitude',parent=alazar_ctrl)\n",
    "#channelA_real = SC.load_instrument('channelA_real',parent=alazar_ctrl)\n",
    "#channelA_imag = SC.load_instrument('channelA_imag',parent=alazar_ctrl)\n",
    "cavity = SC.load_instrument('rs_cavity')  \n",
    "localos = SC.load_instrument('rs_localos')\n",
    "qubit = SC.load_instrument('rs_qubit')\n",
    "switch = SC.load_instrument('minicircuits_switch')  "
   ]
  },
  {
   "cell_type": "code",
   "execution_count": 4,
   "id": "parliamentary-guyana",
   "metadata": {},
   "outputs": [
    {
     "name": "stdout",
     "output_type": "stream",
     "text": [
      "6610400000.0\n"
     ]
    }
   ],
   "source": [
    "SC.seqbuild.readout_freq_1(6.6104e9)\n",
    "print(SC.seqbuild.readout_freq_1())"
   ]
  },
  {
   "cell_type": "code",
   "execution_count": 5,
   "id": "outdoor-rainbow",
   "metadata": {},
   "outputs": [],
   "source": [
    "SC.seqbuild.cycle_time = 4e-6\n",
    "SC.seqbuild.pulse_time = 0.6e-6\n",
    "SC.seqbuild.readout_time = 1.5e-6\n",
    "SC.seqbuild.marker_offset = 0e-9\n",
    "SC.seqbuild.SR.set(1.5e9)\n"
   ]
  },
  {
   "cell_type": "code",
   "execution_count": 6,
   "id": "integrated-colorado",
   "metadata": {},
   "outputs": [],
   "source": [
    "npts = 5\n",
    "start = 4.5e3\n",
    "stop = 5.0e6\n",
    "SC.seqbuild.MultiQ_SSB_Spec_NoOverlap(start, stop, npts)"
   ]
  },
  {
   "cell_type": "code",
   "execution_count": 7,
   "id": "signed-glenn",
   "metadata": {},
   "outputs": [
    {
     "data": {
      "image/png": "[encoded data removed]",
      "text/plain": [
       "<Figure size 432x288 with 24 Axes>"
      ]
     },
     "metadata": {
      "needs_background": "light"
     },
     "output_type": "display_data"
    }
   ],
   "source": [
    "SC.seqbuild.seq.plot()"
   ]
  },
  {
   "cell_type": "code",
   "execution_count": 8,
   "id": "sustainable-isaac",
   "metadata": {},
   "outputs": [],
   "source": [
    "#SC.seqbuild.seq.plot_elem_nr(100)"
   ]
  },
  {
   "cell_type": "code",
   "execution_count": 9,
   "id": "married-booth",
   "metadata": {},
   "outputs": [
    {
     "name": "stderr",
     "output_type": "stream",
     "text": [
      "WARNING:broadbean.sequence:Found a specified offset for channel 1, but .seqx files can't contain offset information. Will ignore the offset.\n",
      "WARNING:broadbean.sequence:Found a specified offset for channel 2, but .seqx files can't contain offset information. Will ignore the offset.\n",
      "WARNING:broadbean.sequence:Found a specified offset for channel 3, but .seqx files can't contain offset information. Will ignore the offset.\n",
      "WARNING:broadbean.sequence:Found a specified offset for channel 4, but .seqx files can't contain offset information. Will ignore the offset.\n"
     ]
    },
    {
     "name": "stdout",
     "output_type": "stream",
     "text": [
      "Sequence uploaded in 1.0984203815460205 seconds\n"
     ]
    }
   ],
   "source": [
    "SC.seqbuild.uploadToAWG()"
   ]
  },
  {
   "cell_type": "code",
   "execution_count": 10,
   "id": "destroyed-truck",
   "metadata": {},
   "outputs": [],
   "source": [
    "SC.seqbuild.runAWG()"
   ]
  },
  {
   "cell_type": "code",
   "execution_count": 11,
   "id": "plastic-lindsay",
   "metadata": {},
   "outputs": [
    {
     "data": {
      "text/plain": [
       "'Running'"
      ]
     },
     "execution_count": 11,
     "metadata": {},
     "output_type": "execute_result"
    }
   ],
   "source": [
    "SC.seqbuild.awg.run_state()"
   ]
  },
  {
   "cell_type": "code",
   "execution_count": 12,
   "id": "north-commons",
   "metadata": {},
   "outputs": [
    {
     "name": "stdout",
     "output_type": "stream",
     "text": [
      "1\n",
      "1\n",
      "1\n",
      "1\n"
     ]
    }
   ],
   "source": [
    "print(SC.seqbuild.awg.ch1.state())\n",
    "print(SC.seqbuild.awg.ch2.state())\n",
    "print(SC.seqbuild.awg.ch3.state())\n",
    "print(SC.seqbuild.awg.ch4.state())"
   ]
  },
  {
   "cell_type": "code",
   "execution_count": 13,
   "id": "traditional-lawsuit",
   "metadata": {},
   "outputs": [],
   "source": [
    "#SC.seqbuild.awg.stop()"
   ]
  },
  {
   "cell_type": "code",
   "execution_count": 14,
   "id": "forbidden-aquatic",
   "metadata": {},
   "outputs": [],
   "source": [
    "#prepare switches and instruments\n",
    "\n",
    "switch.a(2)\n",
    "switch.b(2)\n",
    "\n",
    "#Turn Rohde and Schwarz boxes on and allow IQ modulation\n",
    "cavity.status(1)  \n",
    "cavity.IQ_state(1)\n",
    "qubit.status(1)\n",
    "qubit.IQ_state(1)\n",
    "\n",
    "\n",
    "# set cavity and qubit power manually\n",
    "USE_READOUT_FREQ = 6.6104e9\n",
    "USE_DEMOD_FREQ = 20e6\n",
    "USE_READOUT_POWER = -15\n",
    "cavity.power(USE_READOUT_POWER)\n",
    "qubit.power(-40)\n",
    "\n",
    "cavity.frequency(USE_READOUT_FREQ - USE_DEMOD_FREQ) \n",
    "#pulse_builder.readout_freq_1(USE_READOUT_FREQ)"
   ]
  },
  {
   "cell_type": "code",
   "execution_count": 15,
   "id": "joined-closer",
   "metadata": {},
   "outputs": [
    {
     "name": "stderr",
     "output_type": "stream",
     "text": [
      "INFO:qdev_wrappers.alazar_controllers.ATSChannelController:need 200.0 samples round up to 256\n",
      "INFO:qdev_wrappers.alazar_controllers.ATSChannelController:need 1700.0 samples round up to 1792\n"
     ]
    }
   ],
   "source": [
    "\n",
    "alazar_ctrl.int_delay(2e-7)\n",
    "alazar_ctrl.int_time(0.5e-6)\n",
    "alazar_ctrl.channels.append(channelA)"
   ]
  },
  {
   "cell_type": "code",
   "execution_count": 16,
   "id": "ignored-honduras",
   "metadata": {},
   "outputs": [
    {
     "data": {
      "text/plain": [
       "'AUX_IN_AUXILIARY'"
      ]
     },
     "execution_count": 16,
     "metadata": {},
     "output_type": "execute_result"
    }
   ],
   "source": [
    "alazar.aux_io_mode()"
   ]
  },
  {
   "cell_type": "code",
   "execution_count": 17,
   "id": "arabic-marble",
   "metadata": {},
   "outputs": [],
   "source": [
    "#alazar.clear_buffers()"
   ]
  },
  {
   "cell_type": "code",
   "execution_count": 18,
   "id": "accessible-integrity",
   "metadata": {},
   "outputs": [],
   "source": [
    "#channelA.records_per_buffer(npts)\n",
    "channelA.num_averages(1)\n",
    "\n",
    "channelA.prepare_channel()\n",
    "\n",
    "# Measure this \n",
    "#data1 = do0d(channelA.data)\n",
    "#SC.seqbuild.runAWG()\n",
    "#plot_by_id(data1[0].run_id)"
   ]
  },
  {
   "cell_type": "code",
   "execution_count": 19,
   "id": "radical-denver",
   "metadata": {},
   "outputs": [
    {
     "name": "stderr",
     "output_type": "stream",
     "text": [
      "INFO:qdev_wrappers.alazar_controllers.alazar_multidim_parameters:calling acquire with {'samples_per_record': 1792, 'records_per_buffer': 1, 'buffers_per_acquisition': 1, 'allocated_buffers': 1}\n"
     ]
    },
    {
     "data": {
      "text/plain": [
       "array([0.27594628, 0.26500611, 0.2782906 , ..., 0.08644689, 0.05948718,\n",
       "       0.07238095])"
      ]
     },
     "execution_count": 19,
     "metadata": {},
     "output_type": "execute_result"
    }
   ],
   "source": [
    "channelA.data.get()"
   ]
  },
  {
   "cell_type": "code",
   "execution_count": null,
   "id": "funny-reply",
   "metadata": {},
   "outputs": [],
   "source": [
    "\n",
    "alazar_ctrl.int_delay(0e-6)\n",
    "alazar_ctrl.int_time(SC.seqbuild.pulse_time)\n",
    "alazar_ctrl.channels.append(channelA_phase)\n",
    "alazar_ctrl.channels.append(channelA_magnitude)\n",
    "alazar_ctrl.channels.append(channelA_real)\n",
    "alazar_ctrl.channels.append(channelA_imag)\n",
    "\n",
    "\n"
   ]
  },
  {
   "cell_type": "code",
   "execution_count": null,
   "id": "clean-rogers",
   "metadata": {},
   "outputs": [],
   "source": [
    "channelA_phase.records_per_buffer(npts)\n",
    "channelA_phase.num_averages(8000)\n",
    "\n",
    "channelA_phase.prepare_channel()\n",
    "# Measure this \n",
    "data1 = do0d(channelA_phase.data)\n",
    "#SC.seqbuild.runAWG()\n",
    "plot_by_id(data1[0].run_id)"
   ]
  },
  {
   "cell_type": "code",
   "execution_count": null,
   "id": "severe-segment",
   "metadata": {},
   "outputs": [],
   "source": [
    "channelA_magnitude.records_per_buffer(npts)\n",
    "channelA_magnitude.num_averages(8000)\n",
    "\n",
    "channelA_magnitude.prepare_channel()\n",
    "# Measure this \n",
    "data1 = do0d(channelA_magnitude.data)\n",
    "#SC.seqbuild.runAWG()\n",
    "plot_by_id(data1[0].run_id)"
   ]
  },
  {
   "cell_type": "code",
   "execution_count": null,
   "id": "dimensional-aging",
   "metadata": {},
   "outputs": [],
   "source": [
    "channelA_magnitude.data.get()"
   ]
  },
  {
   "cell_type": "code",
   "execution_count": null,
   "id": "later-ghana",
   "metadata": {},
   "outputs": [],
   "source": [
    "from qcodes.dataset.data_set import load_by_id\n",
    "data = load_by_id(102)"
   ]
  },
  {
   "cell_type": "code",
   "execution_count": null,
   "id": "understanding-connection",
   "metadata": {},
   "outputs": [],
   "source": [
    "dis = data.snapshot['station']['instruments']['seqbuild']['parameters']['seq']\n",
    "snapseq = bb.Sequence().sequence_from_description(dis)\n",
    "plotter(snapseq.element(50))"
   ]
  },
  {
   "cell_type": "code",
   "execution_count": null,
   "id": "private-origin",
   "metadata": {},
   "outputs": [],
   "source": [
    "dis"
   ]
  },
  {
   "cell_type": "code",
   "execution_count": null,
   "id": "associate-thickness",
   "metadata": {},
   "outputs": [],
   "source": [
    "channelA2.records_per_buffer(npts)\n",
    "channelA2.num_averages(80)\n",
    "\n",
    "channelA2.prepare_channel()\n",
    "# Measure this \n",
    "data1 = do0d(channelA2.data)\n",
    "#SC.seqbuild.runAWG()\n",
    "plot_by_id(data1[0].run_id)"
   ]
  },
  {
   "cell_type": "code",
   "execution_count": null,
   "id": "pending-framework",
   "metadata": {},
   "outputs": [],
   "source": [
    "stop = True"
   ]
  },
  {
   "cell_type": "code",
   "execution_count": null,
   "id": "middle-corruption",
   "metadata": {},
   "outputs": [],
   "source": [
    "%matplotlib notebook\n",
    "import numpy as np\n",
    "import matplotlib.pyplot as plt\n",
    "\n",
    "\n",
    "fig = plt.figure()\n",
    "#fig.set_size_inches(18.5, 10.5)\n",
    "ax = fig.add_subplot(111)\n",
    "plt.ion()\n",
    "\n",
    "fig.show()\n",
    "fig.canvas.draw()\n",
    "#ax.axis('equal')\n",
    "#ax.set_aspect('equal', 'box')\n",
    "stop = False\n",
    "for i in range(100):\n",
    "    if stop:\n",
    "        break\n",
    "    bla = channelA2.data.get()\n",
    "    ax.clear()\n",
    "    ax.imshow(bla)\n",
    "    ax.set_aspect(aspect='auto')\n",
    "    fig.canvas.draw()"
   ]
  },
  {
   "cell_type": "code",
   "execution_count": null,
   "id": "sought-genealogy",
   "metadata": {},
   "outputs": [],
   "source": [
    "alazar.snapshot()"
   ]
  },
  {
   "cell_type": "code",
   "execution_count": null,
   "id": "stupid-cedar",
   "metadata": {},
   "outputs": [],
   "source": [
    "RuntimeError                              Traceback (most recent call last)\n",
    "<ipython-input-31-9c9172adecc5> in <module>\n",
    "----> 1 channelA.data.get()\n",
    "\n",
    "c:\\users\\t2_2\\miniconda3\\envs\\broadbean\\lib\\site-packages\\qcodes\\instrument\\parameter.py in get_wrapper(*args, **kwargs)\n",
    "    590             except Exception as e:\n",
    "    591                 e.args = e.args + (f'getting {self}',)\n",
    "--> 592                 raise e\n",
    "    593 \n",
    "    594         return get_wrapper\n",
    "\n",
    "c:\\users\\t2_2\\miniconda3\\envs\\broadbean\\lib\\site-packages\\qcodes\\instrument\\parameter.py in get_wrapper(*args, **kwargs)\n",
    "    577             try:\n",
    "    578                 # There might be cases where a .get also has args/kwargs\n",
    "--> 579                 raw_value = get_function(*args, **kwargs)\n",
    "    580 \n",
    "    581                 value = self._from_raw_value_to_value(raw_value)\n",
    "\n",
    "a:\\scripts\\rasmusbc\\qdev-wrappers\\qdev_wrappers\\alazar_controllers\\alazar_multidim_parameters.py in get_raw(self)\n",
    "    141         output = self._instrument._parent._get_alazar().acquire(\n",
    "    142             acquisition_controller=self._instrument._parent,\n",
    "--> 143             **acq_kwargs)\n",
    "    144         return output\n",
    "    145 \n",
    "\n",
    "c:\\users\\t2_2\\miniconda3\\envs\\broadbean\\lib\\site-packages\\qcodes\\instrument_drivers\\AlazarTech\\ATS.py in acquire(self, mode, samples_per_record, records_per_buffer, buffers_per_acquisition, channel_selection, transfer_offset, external_startcapture, enable_record_headers, alloc_buffers, fifo_only_streaming, interleave_samples, get_processed_data, allocated_buffers, buffer_timeout, acquisition_controller)\n",
    "    488                     self._handle,\n",
    "    489                     ctypes.cast(buf.addr, ctypes.c_void_p),\n",
    "--> 490                     buffer_timeout\n",
    "    491                 )\n",
    "    492 \n",
    "\n",
    "c:\\users\\t2_2\\miniconda3\\envs\\broadbean\\lib\\site-packages\\qcodes\\instrument_drivers\\AlazarTech\\ats_api.py in wait_async_buffer_complete(self, handle, buffer, timeout_in_ms)\n",
    "    330                                    ) -> ReturnCode:\n",
    "    331         return self._sync_dll_call(\n",
    "--> 332             'AlazarWaitAsyncBufferComplete', handle, buffer, timeout_in_ms)\n",
    "    333 \n",
    "    334     signatures.update({\"AlazarWaitAsyncBufferComplete\": Signature(\n",
    "\n",
    "c:\\users\\t2_2\\miniconda3\\envs\\broadbean\\lib\\site-packages\\qcodes\\instrument_drivers\\AlazarTech\\dll_wrapper.py in _sync_dll_call(self, c_name, *args)\n",
    "    211             *_normalize_params(*args)\n",
    "    212         )\n",
    "--> 213         return future.result()\n",
    "\n",
    "c:\\users\\t2_2\\miniconda3\\envs\\broadbean\\lib\\concurrent\\futures\\_base.py in result(self, timeout)\n",
    "    433                 raise CancelledError()\n",
    "    434             elif self._state == FINISHED:\n",
    "--> 435                 return self.__get_result()\n",
    "    436             else:\n",
    "    437                 raise TimeoutError()\n",
    "\n",
    "c:\\users\\t2_2\\miniconda3\\envs\\broadbean\\lib\\concurrent\\futures\\_base.py in __get_result(self)\n",
    "    382     def __get_result(self):\n",
    "    383         if self._exception:\n",
    "--> 384             raise self._exception\n",
    "    385         else:\n",
    "    386             return self._result\n",
    "\n",
    "c:\\users\\t2_2\\miniconda3\\envs\\broadbean\\lib\\concurrent\\futures\\thread.py in run(self)\n",
    "     55 \n",
    "     56         try:\n",
    "---> 57             result = self.fn(*self.args, **self.kwargs)\n",
    "     58         except BaseException as exc:\n",
    "     59             self.future.set_exception(exc)\n",
    "\n",
    "c:\\users\\t2_2\\miniconda3\\envs\\broadbean\\lib\\site-packages\\qcodes\\instrument_drivers\\AlazarTech\\dll_wrapper.py in _api_call_task(lock, c_func, callback, *args)\n",
    "     37         *args: Any) -> int:\n",
    "     38     with lock:\n",
    "---> 39         retval = c_func(*args)\n",
    "     40     callback()\n",
    "     41     return retval\n",
    "\n",
    "c:\\users\\t2_2\\miniconda3\\envs\\broadbean\\lib\\site-packages\\qcodes\\instrument_drivers\\AlazarTech\\dll_wrapper.py in _check_error_code(return_code, func, arguments)\n",
    "     80                 ERROR_CODES[ReturnCode(return_code)],\n",
    "     81                 func.__name__,\n",
    "---> 82                 argrepr))\n",
    "     83 \n",
    "     84     return arguments\n",
    "\n",
    "RuntimeError: ('error 579: ApiWaitTimeout: operation did not finish during timeout interval. Check your trigger. from function AlazarWaitAsyncBufferComplete with args: (1780, c_void_p(2369561034752), 1000)', 'getting alazar_ctrl_channelA_data')\n"
   ]
  }
 ],
 "metadata": {
  "kernelspec": {
   "display_name": "Python 3",
   "language": "python",
   "name": "python3"
  },
  "language_info": {
   "codemirror_mode": {
    "name": "ipython",
    "version": 3
   },
   "file_extension": ".py",
   "mimetype": "text/x-python",
   "name": "python",
   "nbconvert_exporter": "python",
   "pygments_lexer": "ipython3",
   "version": "3.7.9"
  }
 },
 "nbformat": 4,
 "nbformat_minor": 5
}

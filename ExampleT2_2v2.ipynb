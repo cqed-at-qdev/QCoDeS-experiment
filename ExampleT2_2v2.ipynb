{
 "cells": [
  {
   "cell_type": "code",
   "execution_count": 1,
   "id": "foreign-april",
   "metadata": {},
   "outputs": [],
   "source": [
    "import qcodes as qc\n",
    "import broadbean as bb\n",
    "import logging\n",
    "import os\n",
    "import tempfile\n",
    "from sequence_builder import SequenceBuilder\n",
    "from broadbean.plotting import plotter\n",
    "from alazar_config import alazarconfig\n",
    "from alazar_config import alazarconfigttwo\n",
    "import numpy as np\n",
    "import matplotlib.pyplot as plt\n",
    "from qcodes.station import Station\n",
    "from qcodes.utils.dataset.doNd import do0d, do1d\n",
    "from qcodes import initialise_or_create_database_at, \\\n",
    "    load_or_create_experiment, Measurement, Parameter, \\\n",
    "    Station\n",
    "from qcodes.dataset.plotting import plot_by_id\n",
    "\n",
    "\n",
    "logging.basicConfig(level=logging.INFO)"
   ]
  },
  {
   "cell_type": "code",
   "execution_count": 2,
   "id": "colonial-diagram",
   "metadata": {},
   "outputs": [],
   "source": [
    "db_path = os.path.join(tempfile.gettempdir(),\n",
    "                       'data_access_example.db')\n",
    "initialise_or_create_database_at(db_path)\n",
    "\n",
    "experiment = load_or_create_experiment(\n",
    "    experiment_name='alazar',\n",
    "    sample_name='alazar-sample')"
   ]
  },
  {
   "cell_type": "code",
   "execution_count": 3,
   "id": "internal-share",
   "metadata": {},
   "outputs": [
    {
     "name": "stderr",
     "output_type": "stream",
     "text": [
      "c:\\users\\t2_2\\miniconda3\\envs\\broadbean\\lib\\site-packages\\qcodes\\station.py:359: ValidationWarning: Additional properties are not allowed ('auto_reconnect_instrument' was unexpected)\n",
      "\n",
      "Failed validating 'additionalProperties' in schema['properties']['instruments']['patternProperties']['^\\\\w+$']:\n",
      "    {'additionalProperties': False,\n",
      "     'properties': {'add_parameters': {'additionalProperties': False,\n",
      "                                       'patternProperties': {'^(\\\\w+)(\\\\.\\\\w+)*$': {'additionalProperties': False,\n",
      "                                                                                    'properties': {'initial_value': {},\n",
      "                                                                                                   'inter_delay': {'type': 'number'},\n",
      "                                                                                                   'label': {'type': 'string'},\n",
      "                                                                                                   'limits': {'additionalItems': False,\n",
      "                                                                                                              'items': [{'type': 'number'},\n",
      "                                                                                                                        {'type': 'number'}],\n",
      "                                                                                                              'maxItems': 2,\n",
      "                                                                                                              'minItems': 2,\n",
      "                                                                                                              'type': ['array',\n",
      "                                                                                                                       'string']},\n",
      "                                                                                                   'monitor': {'type': 'boolean'},\n",
      "                                                                                                   'offset': {'type': 'number'},\n",
      "                                                                                                   'post_delay': {'type': 'number'},\n",
      "                                                                                                   'scale': {'type': 'number'},\n",
      "                                                                                                   'source': {'pattern': '^(\\\\w+)(\\\\.\\\\w+)*$',\n",
      "                                                                                                              'type': 'string'},\n",
      "                                                                                                   'step': {'type': 'number'},\n",
      "                                                                                                   'unit': {'type': 'string'}},\n",
      "                                                                                    'type': 'object'}},\n",
      "                                       'type': 'object'},\n",
      "                    'address': {'type': 'string'},\n",
      "                    'driver': {'description': 'Deprecated. Append '\n",
      "                                              \"'driver'-value to 'type' \"\n",
      "                                              'field instead.',\n",
      "                               'type': 'string'},\n",
      "                    'enable_forced_reconnect': {'type': 'boolean'},\n",
      "                    'init': {'type': 'object'},\n",
      "                    'parameters': {'additionalProperties': False,\n",
      "                                   'patternProperties': {'^(\\\\w+)(\\\\.\\\\w+)*$': {'additionalProperties': False,\n",
      "                                                                                'properties': {'alias': {'pattern': '^\\\\w+$',\n",
      "                                                                                                         'type': 'string'},\n",
      "                                                                                               'initial_value': {},\n",
      "                                                                                               'inter_delay': {'type': 'number'},\n",
      "                                                                                               'label': {'type': 'string'},\n",
      "                                                                                               'limits': {'additionalItems': False,\n",
      "                                                                                                          'items': [{'type': 'number'},\n",
      "                                                                                                                    {'type': 'number'}],\n",
      "                                                                                                          'maxItems': 2,\n",
      "                                                                                                          'minItems': 2,\n",
      "                                                                                                          'type': ['array',\n",
      "                                                                                                                   'string']},\n",
      "                                                                                               'monitor': {'type': 'boolean'},\n",
      "                                                                                               'offset': {'type': 'number'},\n",
      "                                                                                               'post_delay': {'type': 'number'},\n",
      "                                                                                               'scale': {'type': 'number'},\n",
      "                                                                                               'step': {'type': 'number'},\n",
      "                                                                                               'unit': {'type': 'string'}},\n",
      "                                                                                'type': 'object'}},\n",
      "                                   'type': 'object'},\n",
      "                    'port': {'type': 'integer'},\n",
      "                    'type': {'anyOf': [{'pattern': '^(\\\\w+)(\\\\.\\\\w+)*$'},\n",
      "                                       {'$ref': '#/definitions/instruments'}],\n",
      "                             'type': 'string'}},\n",
      "     'required': ['type'],\n",
      "     'type': 'object'}\n",
      "\n",
      "On instance['instruments']['rs_vna_spec']:\n",
      "    {'address': 'TCPIP0::192.168.15.118::inst0::INSTR',\n",
      "     'auto_reconnect_instrument': True,\n",
      "     'driver': 'qdev_wrappers.customised_instruments.ZNB_ext',\n",
      "     'init': {'S21': True,\n",
      "              'gen_address': '192.168.15.108',\n",
      "              'spec_mode': True,\n",
      "              'timeout': 900},\n",
      "     'parameters': {'S21.avg': ordereddict([('monitor', True)]),\n",
      "                    'S21.bandwidth': ordereddict([('monitor', True)]),\n",
      "                    'S21.npts': ordereddict([('monitor', True)]),\n",
      "                    'S21.power': ordereddict([('monitor', True)]),\n",
      "                    'S21.start': ordereddict([('monitor', True)]),\n",
      "                    'S21.status': ordereddict([('monitor', True)]),\n",
      "                    'S21.stop': ordereddict([('monitor', True)])},\n",
      "     'type': 'ZNB_ext'}\n",
      "  warnings.warn(message, ValidationWarning)\n",
      "INFO:qcodes.instrument.base.com.visa:[awg5208(AWG5208)] Opening PyVISA Resource Manager with default backend.\n",
      "INFO:qcodes.instrument.base.com.visa:[awg5208(AWG5208)] Opening PyVISA resource at address: TCPIP0::192.168.15.113::inst0::INSTR\n",
      "INFO:qcodes.instrument.base:[awg5208(AWG5208)] Connected to instrument: {'vendor': 'TEKTRONIX', 'model': 'AWG5208', 'serial': 'B020204', 'firmware': 'FV:6.1.0061.0'}\n"
     ]
    },
    {
     "name": "stdout",
     "output_type": "stream",
     "text": [
      "Connected to: TEKTRONIX AWG5208 (serial:B020204, firmware:FV:6.1.0061.0) in 0.11s\n"
     ]
    },
    {
     "name": "stderr",
     "output_type": "stream",
     "text": [
      "c:\\users\\t2_2\\miniconda3\\envs\\broadbean\\lib\\site-packages\\qcodes\\station.py:359: ValidationWarning: Additional properties are not allowed ('auto_reconnect_instrument' was unexpected)\n",
      "\n",
      "Failed validating 'additionalProperties' in schema['properties']['instruments']['patternProperties']['^\\\\w+$']:\n",
      "    {'additionalProperties': False,\n",
      "     'properties': {'add_parameters': {'additionalProperties': False,\n",
      "                                       'patternProperties': {'^(\\\\w+)(\\\\.\\\\w+)*$': {'additionalProperties': False,\n",
      "                                                                                    'properties': {'initial_value': {},\n",
      "                                                                                                   'inter_delay': {'type': 'number'},\n",
      "                                                                                                   'label': {'type': 'string'},\n",
      "                                                                                                   'limits': {'additionalItems': False,\n",
      "                                                                                                              'items': [{'type': 'number'},\n",
      "                                                                                                                        {'type': 'number'}],\n",
      "                                                                                                              'maxItems': 2,\n",
      "                                                                                                              'minItems': 2,\n",
      "                                                                                                              'type': ['array',\n",
      "                                                                                                                       'string']},\n",
      "                                                                                                   'monitor': {'type': 'boolean'},\n",
      "                                                                                                   'offset': {'type': 'number'},\n",
      "                                                                                                   'post_delay': {'type': 'number'},\n",
      "                                                                                                   'scale': {'type': 'number'},\n",
      "                                                                                                   'source': {'pattern': '^(\\\\w+)(\\\\.\\\\w+)*$',\n",
      "                                                                                                              'type': 'string'},\n",
      "                                                                                                   'step': {'type': 'number'},\n",
      "                                                                                                   'unit': {'type': 'string'}},\n",
      "                                                                                    'type': 'object'}},\n",
      "                                       'type': 'object'},\n",
      "                    'address': {'type': 'string'},\n",
      "                    'driver': {'description': 'Deprecated. Append '\n",
      "                                              \"'driver'-value to 'type' \"\n",
      "                                              'field instead.',\n",
      "                               'type': 'string'},\n",
      "                    'enable_forced_reconnect': {'type': 'boolean'},\n",
      "                    'init': {'type': 'object'},\n",
      "                    'parameters': {'additionalProperties': False,\n",
      "                                   'patternProperties': {'^(\\\\w+)(\\\\.\\\\w+)*$': {'additionalProperties': False,\n",
      "                                                                                'properties': {'alias': {'pattern': '^\\\\w+$',\n",
      "                                                                                                         'type': 'string'},\n",
      "                                                                                               'initial_value': {},\n",
      "                                                                                               'inter_delay': {'type': 'number'},\n",
      "                                                                                               'label': {'type': 'string'},\n",
      "                                                                                               'limits': {'additionalItems': False,\n",
      "                                                                                                          'items': [{'type': 'number'},\n",
      "                                                                                                                    {'type': 'number'}],\n",
      "                                                                                                          'maxItems': 2,\n",
      "                                                                                                          'minItems': 2,\n",
      "                                                                                                          'type': ['array',\n",
      "                                                                                                                   'string']},\n",
      "                                                                                               'monitor': {'type': 'boolean'},\n",
      "                                                                                               'offset': {'type': 'number'},\n",
      "                                                                                               'post_delay': {'type': 'number'},\n",
      "                                                                                               'scale': {'type': 'number'},\n",
      "                                                                                               'step': {'type': 'number'},\n",
      "                                                                                               'unit': {'type': 'string'}},\n",
      "                                                                                'type': 'object'}},\n",
      "                                   'type': 'object'},\n",
      "                    'port': {'type': 'integer'},\n",
      "                    'type': {'anyOf': [{'pattern': '^(\\\\w+)(\\\\.\\\\w+)*$'},\n",
      "                                       {'$ref': '#/definitions/instruments'}],\n",
      "                             'type': 'string'}},\n",
      "     'required': ['type'],\n",
      "     'type': 'object'}\n",
      "\n",
      "On instance['instruments']['rs_vna_spec']:\n",
      "    {'address': 'TCPIP0::192.168.15.118::inst0::INSTR',\n",
      "     'auto_reconnect_instrument': True,\n",
      "     'driver': 'qdev_wrappers.customised_instruments.ZNB_ext',\n",
      "     'init': {'S21': True,\n",
      "              'gen_address': '192.168.15.108',\n",
      "              'spec_mode': True,\n",
      "              'timeout': 900},\n",
      "     'parameters': {'S21.avg': ordereddict([('monitor', True)]),\n",
      "                    'S21.bandwidth': ordereddict([('monitor', True)]),\n",
      "                    'S21.npts': ordereddict([('monitor', True)]),\n",
      "                    'S21.power': ordereddict([('monitor', True)]),\n",
      "                    'S21.start': ordereddict([('monitor', True)]),\n",
      "                    'S21.status': ordereddict([('monitor', True)]),\n",
      "                    'S21.stop': ordereddict([('monitor', True)])},\n",
      "     'type': 'ZNB_ext'}\n",
      "  warnings.warn(message, ValidationWarning)\n",
      "c:\\users\\t2_2\\miniconda3\\envs\\broadbean\\lib\\site-packages\\qcodes\\station.py:447: QCoDeSDeprecationWarning: The use of the \"driver\"-keyword in the station configuration file is deprecated. Use \"the \"type\"-keyword instead, prepending the driver value to it\" as an alternative.\n",
      "  alternative='the \"type\"-keyword instead, prepending the '\n",
      "INFO:qcodes.instrument.base.com.visa:[rs_cavity(RohdeSchwarz_SGS100A)] Opening PyVISA Resource Manager with default backend.\n",
      "INFO:qcodes.instrument.base.com.visa:[rs_cavity(RohdeSchwarz_SGS100A)] Opening PyVISA resource at address: TCPIP0::192.168.15.105::inst0::INSTR\n",
      "INFO:qcodes.instrument.base:[rs_cavity(RohdeSchwarz_SGS100A)] Connected to instrument: {'vendor': 'Rohde&Schwarz', 'model': 'SGS100A', 'serial': '1416.0505k02/103079', 'firmware': '3.1.19.7-3.20.140.60.1'}\n"
     ]
    },
    {
     "name": "stdout",
     "output_type": "stream",
     "text": [
      "Connected to: Rohde&Schwarz SGS100A (serial:1416.0505k02/103079, firmware:3.1.19.7-3.20.140.60.1) in 0.03s\n"
     ]
    },
    {
     "name": "stderr",
     "output_type": "stream",
     "text": [
      "INFO:qcodes.instrument.base.com.visa:[rs_localos(RohdeSchwarz_SGS100A)] Opening PyVISA Resource Manager with default backend.\n",
      "INFO:qcodes.instrument.base.com.visa:[rs_localos(RohdeSchwarz_SGS100A)] Opening PyVISA resource at address: TCPIP0::192.168.15.108::inst0::INSTR\n",
      "INFO:qcodes.instrument.base:[rs_localos(RohdeSchwarz_SGS100A)] Connected to instrument: {'vendor': 'Rohde&Schwarz', 'model': 'SGS100A', 'serial': '1416.0505k02/103848', 'firmware': '3.1.19.15-3.20.347.26'}\n"
     ]
    },
    {
     "name": "stdout",
     "output_type": "stream",
     "text": [
      "Connected to: Rohde&Schwarz SGS100A (serial:1416.0505k02/103848, firmware:3.1.19.15-3.20.347.26) in 0.03s\n"
     ]
    },
    {
     "name": "stderr",
     "output_type": "stream",
     "text": [
      "INFO:qcodes.instrument.base.com.visa:[rs_qubit(RohdeSchwarz_SGS100A)] Opening PyVISA Resource Manager with default backend.\n",
      "INFO:qcodes.instrument.base.com.visa:[rs_qubit(RohdeSchwarz_SGS100A)] Opening PyVISA resource at address: TCPIP0::192.168.15.107::inst0::INSTR\n",
      "INFO:qcodes.instrument.base:[rs_qubit(RohdeSchwarz_SGS100A)] Connected to instrument: {'vendor': 'Rohde&Schwarz', 'model': 'SGS100A', 'serial': '1416.0505k02/103078', 'firmware': '3.1.19.7-3.20.140.60.1'}\n"
     ]
    },
    {
     "name": "stdout",
     "output_type": "stream",
     "text": [
      "Connected to: Rohde&Schwarz SGS100A (serial:1416.0505k02/103078, firmware:3.1.19.7-3.20.140.60.1) in 0.03s\n"
     ]
    },
    {
     "name": "stderr",
     "output_type": "stream",
     "text": [
      "INFO:qcodes.instrument.base:[minicircuits_switch(USB_SPDT)] Connected to instrument: {'vendor': 'Mini-Circuits', 'model': 'USB-4SPDT-A18', 'serial': '11608300052', 'firmware': 20}\n"
     ]
    },
    {
     "name": "stdout",
     "output_type": "stream",
     "text": [
      "Connected to: Mini-Circuits USB-4SPDT-A18 (serial:11608300052, firmware:20) in 0.05s\n"
     ]
    }
   ],
   "source": [
    "SC = qc.Station(config_file='Config.yaml')\n",
    "AWGB = SC.load_instrument('awg5208')\n",
    "seqbuild = SequenceBuilder(name = 'seqbuild', awg=AWGB)\n",
    "SC.add_component(seqbuild)\n",
    "alazar = SC.load_instrument('alazar')\n",
    "#alazarconfigttwo(alazar)\n",
    "alazarconfig(alazar)\n",
    "alazar_ctrl = SC.load_instrument('alazar_ctrl')\n",
    "channelA = SC.load_instrument('channelA',parent=alazar_ctrl)\n",
    "rec_f1_mag = SC.load_instrument('rec_f1_mag',parent=alazar_ctrl)\n",
    "rec_f1_phase = SC.load_instrument('rec_f1_phase',parent=alazar_ctrl)\n",
    "cavity = SC.load_instrument('rs_cavity')  \n",
    "localos = SC.load_instrument('rs_localos')\n",
    "qubit = SC.load_instrument('rs_qubit')\n",
    "switch = SC.load_instrument('minicircuits_switch')  "
   ]
  },
  {
   "cell_type": "code",
   "execution_count": 4,
   "id": "greek-philosophy",
   "metadata": {},
   "outputs": [
    {
     "name": "stdout",
     "output_type": "stream",
     "text": [
      "6609095000\n"
     ]
    }
   ],
   "source": [
    "SC.seqbuild.readout_freq_1(6609095000)\n",
    "print(SC.seqbuild.readout_freq_1())"
   ]
  },
  {
   "cell_type": "code",
   "execution_count": 5,
   "id": "outdoor-rainbow",
   "metadata": {},
   "outputs": [],
   "source": [
    "SC.seqbuild.cycle_time = 6e-6\n",
    "SC.seqbuild.pulse_time = 0.6e-6\n",
    "SC.seqbuild.readout_time = 2.5e-6\n",
    "SC.seqbuild.marker_offset = 0e-9\n",
    "SC.seqbuild.SR.set(2.5e9)\n"
   ]
  },
  {
   "cell_type": "code",
   "execution_count": 6,
   "id": "integrated-colorado",
   "metadata": {},
   "outputs": [],
   "source": [
    "npts = 121\n",
    "span=400e6/2\n",
    "qubit_frequency = 3.3e9\n",
    "start = qubit_frequency -span\n",
    "stop = qubit_frequency + span\n",
    "SC.seqbuild.MultiQ_SSB_Spec_NoOverlap(start, stop, npts)"
   ]
  },
  {
   "cell_type": "code",
   "execution_count": 7,
   "id": "signed-glenn",
   "metadata": {},
   "outputs": [],
   "source": [
    "#SC.seqbuild.seq.plot()"
   ]
  },
  {
   "cell_type": "code",
   "execution_count": 8,
   "id": "sustainable-isaac",
   "metadata": {},
   "outputs": [
    {
     "data": {
      "image/png": "[encoded data removed]",
      "text/plain": [
       "<Figure size 432x288 with 8 Axes>"
      ]
     },
     "metadata": {
      "needs_background": "light"
     },
     "output_type": "display_data"
    }
   ],
   "source": [
    "SC.seqbuild.seq.plot_elem_nr(100)"
   ]
  },
  {
   "cell_type": "code",
   "execution_count": 9,
   "id": "married-booth",
   "metadata": {},
   "outputs": [
    {
     "name": "stderr",
     "output_type": "stream",
     "text": [
      "WARNING:broadbean.sequence:Found a specified offset for channel 1, but .seqx files can't contain offset information. Will ignore the offset.\n",
      "WARNING:broadbean.sequence:Found a specified offset for channel 2, but .seqx files can't contain offset information. Will ignore the offset.\n",
      "WARNING:broadbean.sequence:Found a specified offset for channel 3, but .seqx files can't contain offset information. Will ignore the offset.\n",
      "WARNING:broadbean.sequence:Found a specified offset for channel 4, but .seqx files can't contain offset information. Will ignore the offset.\n"
     ]
    },
    {
     "name": "stdout",
     "output_type": "stream",
     "text": [
      "Sequence uploaded in 9.269089698791504 seconds\n"
     ]
    }
   ],
   "source": [
    "SC.seqbuild.uploadToAWG()"
   ]
  },
  {
   "cell_type": "code",
   "execution_count": 10,
   "id": "destroyed-truck",
   "metadata": {},
   "outputs": [],
   "source": [
    "SC.seqbuild.runAWG()"
   ]
  },
  {
   "cell_type": "code",
   "execution_count": 11,
   "id": "plastic-lindsay",
   "metadata": {},
   "outputs": [
    {
     "data": {
      "text/plain": [
       "'Running'"
      ]
     },
     "execution_count": 11,
     "metadata": {},
     "output_type": "execute_result"
    }
   ],
   "source": [
    "SC.seqbuild.awg.run_state()"
   ]
  },
  {
   "cell_type": "code",
   "execution_count": 12,
   "id": "north-commons",
   "metadata": {},
   "outputs": [
    {
     "name": "stdout",
     "output_type": "stream",
     "text": [
      "1\n",
      "1\n",
      "1\n",
      "1\n"
     ]
    }
   ],
   "source": [
    "print(SC.seqbuild.awg.ch1.state())\n",
    "print(SC.seqbuild.awg.ch2.state())\n",
    "print(SC.seqbuild.awg.ch3.state())\n",
    "print(SC.seqbuild.awg.ch4.state())"
   ]
  },
  {
   "cell_type": "code",
   "execution_count": 13,
   "id": "traditional-lawsuit",
   "metadata": {},
   "outputs": [
    {
     "name": "stdout",
     "output_type": "stream",
     "text": [
      "2\n",
      "2\n"
     ]
    }
   ],
   "source": [
    "\n",
    "print(switch.a())\n",
    "print(switch.b())"
   ]
  },
  {
   "cell_type": "code",
   "execution_count": 14,
   "id": "serial-shaft",
   "metadata": {},
   "outputs": [],
   "source": [
    "#prepare switches and instruments\n",
    "\n",
    "switch.a(2)\n",
    "switch.b(2)\n",
    "\n",
    "#Turn Rohde and Schwarz boxes on and allow IQ modulation\n",
    "cavity.status(1)  \n",
    "cavity.IQ_state(1)\n",
    "qubit.status(1)\n",
    "qubit.IQ_state(1)\n",
    "\n",
    "\n",
    "# set cavity and qubit power manually\n",
    "USE_READOUT_FREQ = 6609095000\n",
    "USE_DEMOD_FREQ = 20e6\n",
    "USE_READOUT_POWER = -15\n",
    "cavity.power(USE_READOUT_POWER)\n",
    "qubit.power(-40)\n",
    "\n",
    "cavity.frequency(USE_READOUT_FREQ - USE_DEMOD_FREQ) \n"
   ]
  },
  {
   "cell_type": "code",
   "execution_count": 15,
   "id": "joined-closer",
   "metadata": {},
   "outputs": [
    {
     "name": "stderr",
     "output_type": "stream",
     "text": [
      "INFO:qdev_wrappers.alazar_controllers.ATSChannelController:need 200.0 samples round up to 256\n",
      "INFO:qdev_wrappers.alazar_controllers.ATSChannelController:need 700.0 samples round up to 768\n"
     ]
    }
   ],
   "source": [
    "alazar_ctrl.channels.append(rec_f1_mag)\n",
    "alazar_ctrl.channels.append(rec_f1_phase)\n",
    "alazar_ctrl.channels[0].demod_freq(USE_DEMOD_FREQ)\n",
    "alazar_ctrl.channels[1].demod_freq(USE_DEMOD_FREQ)\n",
    "for n, ala_chan in enumerate(alazar_ctrl.channels[0:2]):\n",
    "    ala_chan.records_per_buffer(npts)\n",
    "    ala_chan.data.setpoint_labels = ('SSB Drive frequency (Non-overlap)',)\n",
    "    ala_chan.data.setpoint_units = ('Hz',)\n",
    "alazar_ctrl.int_delay(2e-7)\n",
    "alazar_ctrl.int_time(0.5e-6)"
   ]
  },
  {
   "cell_type": "code",
   "execution_count": 16,
   "id": "bridal-lecture",
   "metadata": {},
   "outputs": [
    {
     "data": {
      "text/plain": [
       "'AUX_IN_AUXILIARY'"
      ]
     },
     "execution_count": 16,
     "metadata": {},
     "output_type": "execute_result"
    }
   ],
   "source": [
    "alazar.aux_io_mode()"
   ]
  },
  {
   "cell_type": "code",
   "execution_count": 17,
   "id": "accessible-integrity",
   "metadata": {},
   "outputs": [],
   "source": [
    "rec_f1_phase.records_per_buffer(npts)\n",
    "rec_f1_phase.num_averages(80)\n",
    "\n",
    "rec_f1_phase.prepare_channel()\n",
    "\n",
    "# Measure this \n",
    "#data1 = do0d(channelA.data)\n",
    "#SC.seqbuild.runAWG()\n",
    "#plot_by_id(data1[0].run_id)"
   ]
  },
  {
   "cell_type": "code",
   "execution_count": 18,
   "id": "unlikely-chambers",
   "metadata": {},
   "outputs": [
    {
     "data": {
      "text/plain": [
       "{'firmware': '21.09',\n",
       " 'model': 'ATS9360',\n",
       " 'max_samples': 4294967294,\n",
       " 'bits_per_sample': 12,\n",
       " 'serial': '970344',\n",
       " 'vendor': 'AlazarTech',\n",
       " 'CPLD_version': '25.16',\n",
       " 'driver_version': '6.5.1',\n",
       " 'SDK_version': '6.5.1',\n",
       " 'latest_cal_date': '13-11-15',\n",
       " 'memory_size': '4294967294',\n",
       " 'asopc_type': 1763017568,\n",
       " 'pcie_link_speed': '0.5GB/s',\n",
       " 'pcie_link_width': '8'}"
      ]
     },
     "execution_count": 18,
     "metadata": {},
     "output_type": "execute_result"
    }
   ],
   "source": [
    "alazar.IDN()"
   ]
  },
  {
   "cell_type": "code",
   "execution_count": 19,
   "id": "forbidden-alcohol",
   "metadata": {},
   "outputs": [
    {
     "name": "stderr",
     "output_type": "stream",
     "text": [
      "INFO:qdev_wrappers.alazar_controllers.alazar_multidim_parameters:calling acquire with {'samples_per_record': 768, 'records_per_buffer': 121, 'buffers_per_acquisition': 80, 'allocated_buffers': 4}\n"
     ]
    },
    {
     "data": {
      "text/plain": [
       "array([ 5.83314785e-04, -2.33946682e-03, -1.46962057e-03,  8.05431869e-04,\n",
       "       -3.24801729e-03,  1.80551281e-03, -2.26515156e-03, -2.11477198e-03,\n",
       "        1.03386522e-03, -1.88977104e-03,  5.19794025e-03,  2.38219265e-03,\n",
       "        5.46947048e-04, -1.48654592e-06,  1.37829158e-03, -1.36172453e-04,\n",
       "        2.05883376e-03, -7.17013522e-04,  3.43686862e-04, -1.97182938e-03,\n",
       "       -1.14067044e-03, -5.57795385e-04, -1.80468271e-03,  1.85319804e-03,\n",
       "        5.40359049e-04, -1.64982781e-03,  3.11980014e-03, -2.29770636e-03,\n",
       "       -2.49528698e-03, -7.97782470e-04,  3.66802215e-04, -9.13724311e-04,\n",
       "        3.63810085e-04,  4.33827154e-05,  1.25869992e-03,  1.01404675e-03,\n",
       "       -2.39375180e-03,  1.06653458e-04,  1.72054532e-03, -3.71582874e-04,\n",
       "        3.79733569e-03, -9.48366279e-04, -1.45815791e-03,  4.75570561e-04,\n",
       "        1.60934553e-03, -2.75451373e-05,  4.46406907e-03, -2.35019768e-03,\n",
       "       -1.24072515e-03,  5.07086599e-03,  2.71116573e-03, -1.72657248e-04,\n",
       "        2.80698258e-03,  6.86190356e-04,  1.66479779e-03, -1.62902727e-03,\n",
       "        2.03530902e-03, -3.79699259e-04,  6.13810961e-05,  1.55086859e-03,\n",
       "        1.84110846e-04, -1.60391961e-04, -3.35473142e-03,  1.09650799e-03,\n",
       "       -3.98281226e-03, -9.74798608e-04, -5.87073214e-04,  1.84097149e-03,\n",
       "       -1.94283383e-03, -1.38911748e-03,  3.04573879e-03, -5.90418056e-04,\n",
       "       -9.35181547e-04,  1.88147820e-03, -1.73125343e-03,  2.15308434e-04,\n",
       "       -3.66181570e-03,  1.00464408e-03,  4.18926517e-03,  3.44769434e-04,\n",
       "        3.68337624e-03, -2.62382447e-04,  8.12548357e-04,  9.39678962e-04,\n",
       "        3.75544240e-03, -6.30593398e-04,  1.57193848e-03, -4.30611149e-03,\n",
       "       -3.58373124e-03, -3.27232470e-03,  1.62117425e-03,  3.59362185e-04,\n",
       "        2.11869208e-03, -8.15963384e-04, -2.06256318e-03,  2.18258625e-03,\n",
       "        9.16165208e-04, -2.64250094e-03,  1.82680353e-03,  7.19213287e-04,\n",
       "        1.36834132e-03,  2.07407646e-04,  8.88921296e-04,  5.65266134e-04,\n",
       "        3.49575890e-03,  2.19163489e-03, -1.66063641e-03,  2.80248944e-03,\n",
       "        3.60604665e-03, -2.50412963e-03,  3.37829847e-03,  2.19297916e-04,\n",
       "        1.56736756e-05, -1.80786144e-03,  2.42893653e-03, -3.11818218e-03,\n",
       "       -1.34521325e-03,  4.56181603e-03, -1.66783996e-03,  1.13271828e-03,\n",
       "        1.09120836e-04])"
      ]
     },
     "execution_count": 19,
     "metadata": {},
     "output_type": "execute_result"
    }
   ],
   "source": [
    "rec_f1_phase.data.get()"
   ]
  },
  {
   "cell_type": "code",
   "execution_count": 26,
   "id": "arctic-diving",
   "metadata": {},
   "outputs": [
    {
     "name": "stderr",
     "output_type": "stream",
     "text": [
      "INFO:qcodes.dataset.measurements:Registered alazar_ctrl_rec_f1_phase_records in the Measurement.\n",
      "INFO:qcodes.dataset.measurements:Registered alazar_ctrl_rec_f1_phase_data in the Measurement.\n",
      "INFO:qcodes.dataset.sqlite.queries:Set the run_timestamp of run_id 14 to 1614696317.122237\n",
      "INFO:qcodes.dataset.measurements:Starting measurement with guid: aaaaaaaa-0000-0000-0000-0177f366805f. \n",
      "INFO:qcodes.dataset.measurements:Using background writing: False\n"
     ]
    },
    {
     "name": "stdout",
     "output_type": "stream",
     "text": [
      "Starting experimental run with id: 14. \n"
     ]
    },
    {
     "ename": "ModuleNotFoundError",
     "evalue": "No module named 'qcplotutils'",
     "output_type": "error",
     "traceback": [
      "\u001b[1;31m---------------------------------------------------------------------------\u001b[0m",
      "\u001b[1;31mModuleNotFoundError\u001b[0m                       Traceback (most recent call last)",
      "\u001b[1;32m<ipython-input-26-785ff4d88f60>\u001b[0m in \u001b[0;36m<module>\u001b[1;34m\u001b[0m\n\u001b[1;32m----> 1\u001b[1;33m \u001b[0mdata1\u001b[0m \u001b[1;33m=\u001b[0m \u001b[0mdo0d\u001b[0m\u001b[1;33m(\u001b[0m\u001b[0mrec_f1_phase\u001b[0m\u001b[1;33m.\u001b[0m\u001b[0mdata\u001b[0m\u001b[1;33m)\u001b[0m\u001b[1;33m\u001b[0m\u001b[1;33m\u001b[0m\u001b[0m\n\u001b[0m",
      "\u001b[1;32mc:\\users\\t2_2\\miniconda3\\envs\\broadbean\\lib\\site-packages\\qcodes\\utils\\dataset\\doNd.py\u001b[0m in \u001b[0;36mdo0d\u001b[1;34m(write_period, measurement_name, exp, do_plot, use_threads, *param_meas)\u001b[0m\n\u001b[0;32m    220\u001b[0m     \u001b[0m_set_write_period\u001b[0m\u001b[1;33m(\u001b[0m\u001b[0mmeas\u001b[0m\u001b[1;33m,\u001b[0m \u001b[0mwrite_period\u001b[0m\u001b[1;33m)\u001b[0m\u001b[1;33m\u001b[0m\u001b[1;33m\u001b[0m\u001b[0m\n\u001b[0;32m    221\u001b[0m \u001b[1;33m\u001b[0m\u001b[0m\n\u001b[1;32m--> 222\u001b[1;33m     \u001b[1;32mwith\u001b[0m \u001b[0mmeas\u001b[0m\u001b[1;33m.\u001b[0m\u001b[0mrun\u001b[0m\u001b[1;33m(\u001b[0m\u001b[1;33m)\u001b[0m \u001b[1;32mas\u001b[0m \u001b[0mdatasaver\u001b[0m\u001b[1;33m:\u001b[0m\u001b[1;33m\u001b[0m\u001b[1;33m\u001b[0m\u001b[0m\n\u001b[0m\u001b[0;32m    223\u001b[0m         datasaver.add_result(\n\u001b[0;32m    224\u001b[0m             *_process_params_meas(\n",
      "\u001b[1;32mc:\\users\\t2_2\\miniconda3\\envs\\broadbean\\lib\\site-packages\\qcodes\\dataset\\measurements.py\u001b[0m in \u001b[0;36m__enter__\u001b[1;34m(self)\u001b[0m\n\u001b[0;32m    543\u001b[0m                             \u001b[0mdataset\u001b[0m\u001b[1;33m=\u001b[0m\u001b[0mself\u001b[0m\u001b[1;33m.\u001b[0m\u001b[0mds\u001b[0m\u001b[1;33m,\u001b[0m\u001b[1;33m\u001b[0m\u001b[1;33m\u001b[0m\u001b[0m\n\u001b[0;32m    544\u001b[0m                             \u001b[0mwrite_period\u001b[0m\u001b[1;33m=\u001b[0m\u001b[0mself\u001b[0m\u001b[1;33m.\u001b[0m\u001b[0mwrite_period\u001b[0m\u001b[1;33m,\u001b[0m\u001b[1;33m\u001b[0m\u001b[1;33m\u001b[0m\u001b[0m\n\u001b[1;32m--> 545\u001b[1;33m                             interdeps=self._interdependencies)\n\u001b[0m\u001b[0;32m    546\u001b[0m \u001b[1;33m\u001b[0m\u001b[0m\n\u001b[0;32m    547\u001b[0m         \u001b[1;32mreturn\u001b[0m \u001b[0mself\u001b[0m\u001b[1;33m.\u001b[0m\u001b[0mdatasaver\u001b[0m\u001b[1;33m\u001b[0m\u001b[1;33m\u001b[0m\u001b[0m\n",
      "\u001b[1;32mc:\\users\\t2_2\\miniconda3\\envs\\broadbean\\lib\\site-packages\\qcodes\\dataset\\measurements.py\u001b[0m in \u001b[0;36m__init__\u001b[1;34m(self, dataset, write_period, interdeps)\u001b[0m\n\u001b[0;32m     86\u001b[0m         \u001b[0mdefault_subscribers\u001b[0m \u001b[1;33m=\u001b[0m \u001b[0mqc\u001b[0m\u001b[1;33m.\u001b[0m\u001b[0mconfig\u001b[0m\u001b[1;33m.\u001b[0m\u001b[0msubscription\u001b[0m\u001b[1;33m.\u001b[0m\u001b[0mdefault_subscribers\u001b[0m\u001b[1;33m\u001b[0m\u001b[1;33m\u001b[0m\u001b[0m\n\u001b[0;32m     87\u001b[0m         \u001b[1;32mfor\u001b[0m \u001b[0msubscriber\u001b[0m \u001b[1;32min\u001b[0m \u001b[0mdefault_subscribers\u001b[0m\u001b[1;33m:\u001b[0m\u001b[1;33m\u001b[0m\u001b[1;33m\u001b[0m\u001b[0m\n\u001b[1;32m---> 88\u001b[1;33m             \u001b[0mself\u001b[0m\u001b[1;33m.\u001b[0m\u001b[0m_dataset\u001b[0m\u001b[1;33m.\u001b[0m\u001b[0msubscribe_from_config\u001b[0m\u001b[1;33m(\u001b[0m\u001b[0msubscriber\u001b[0m\u001b[1;33m)\u001b[0m\u001b[1;33m\u001b[0m\u001b[1;33m\u001b[0m\u001b[0m\n\u001b[0m\u001b[0;32m     89\u001b[0m \u001b[1;33m\u001b[0m\u001b[0m\n\u001b[0;32m     90\u001b[0m         \u001b[0mself\u001b[0m\u001b[1;33m.\u001b[0m\u001b[0m_interdeps\u001b[0m \u001b[1;33m=\u001b[0m \u001b[0minterdeps\u001b[0m\u001b[1;33m\u001b[0m\u001b[1;33m\u001b[0m\u001b[0m\n",
      "\u001b[1;32mc:\\users\\t2_2\\miniconda3\\envs\\broadbean\\lib\\site-packages\\qcodes\\dataset\\data_set.py\u001b[0m in \u001b[0;36msubscribe_from_config\u001b[1;34m(self, name)\u001b[0m\n\u001b[0;32m   1396\u001b[0m         \u001b[0mparts\u001b[0m \u001b[1;33m=\u001b[0m \u001b[0msubscriber_info\u001b[0m\u001b[1;33m.\u001b[0m\u001b[0mfactory\u001b[0m\u001b[1;33m.\u001b[0m\u001b[0msplit\u001b[0m\u001b[1;33m(\u001b[0m\u001b[1;34m'.'\u001b[0m\u001b[1;33m)\u001b[0m\u001b[1;33m\u001b[0m\u001b[1;33m\u001b[0m\u001b[0m\n\u001b[0;32m   1397\u001b[0m         \u001b[0mimport_path\u001b[0m\u001b[1;33m,\u001b[0m \u001b[0mtype_name\u001b[0m \u001b[1;33m=\u001b[0m \u001b[1;34m'.'\u001b[0m\u001b[1;33m.\u001b[0m\u001b[0mjoin\u001b[0m\u001b[1;33m(\u001b[0m\u001b[0mparts\u001b[0m\u001b[1;33m[\u001b[0m\u001b[1;33m:\u001b[0m\u001b[1;33m-\u001b[0m\u001b[1;36m1\u001b[0m\u001b[1;33m]\u001b[0m\u001b[1;33m)\u001b[0m\u001b[1;33m,\u001b[0m \u001b[0mparts\u001b[0m\u001b[1;33m[\u001b[0m\u001b[1;33m-\u001b[0m\u001b[1;36m1\u001b[0m\u001b[1;33m]\u001b[0m\u001b[1;33m\u001b[0m\u001b[1;33m\u001b[0m\u001b[0m\n\u001b[1;32m-> 1398\u001b[1;33m         \u001b[0mmodule\u001b[0m \u001b[1;33m=\u001b[0m \u001b[0mimportlib\u001b[0m\u001b[1;33m.\u001b[0m\u001b[0mimport_module\u001b[0m\u001b[1;33m(\u001b[0m\u001b[0mimport_path\u001b[0m\u001b[1;33m)\u001b[0m\u001b[1;33m\u001b[0m\u001b[1;33m\u001b[0m\u001b[0m\n\u001b[0m\u001b[0;32m   1399\u001b[0m         \u001b[0mfactory\u001b[0m \u001b[1;33m=\u001b[0m \u001b[0mgetattr\u001b[0m\u001b[1;33m(\u001b[0m\u001b[0mmodule\u001b[0m\u001b[1;33m,\u001b[0m \u001b[0mtype_name\u001b[0m\u001b[1;33m)\u001b[0m\u001b[1;33m\u001b[0m\u001b[1;33m\u001b[0m\u001b[0m\n\u001b[0;32m   1400\u001b[0m \u001b[1;33m\u001b[0m\u001b[0m\n",
      "\u001b[1;32mc:\\users\\t2_2\\miniconda3\\envs\\broadbean\\lib\\importlib\\__init__.py\u001b[0m in \u001b[0;36mimport_module\u001b[1;34m(name, package)\u001b[0m\n\u001b[0;32m    125\u001b[0m                 \u001b[1;32mbreak\u001b[0m\u001b[1;33m\u001b[0m\u001b[1;33m\u001b[0m\u001b[0m\n\u001b[0;32m    126\u001b[0m             \u001b[0mlevel\u001b[0m \u001b[1;33m+=\u001b[0m \u001b[1;36m1\u001b[0m\u001b[1;33m\u001b[0m\u001b[1;33m\u001b[0m\u001b[0m\n\u001b[1;32m--> 127\u001b[1;33m     \u001b[1;32mreturn\u001b[0m \u001b[0m_bootstrap\u001b[0m\u001b[1;33m.\u001b[0m\u001b[0m_gcd_import\u001b[0m\u001b[1;33m(\u001b[0m\u001b[0mname\u001b[0m\u001b[1;33m[\u001b[0m\u001b[0mlevel\u001b[0m\u001b[1;33m:\u001b[0m\u001b[1;33m]\u001b[0m\u001b[1;33m,\u001b[0m \u001b[0mpackage\u001b[0m\u001b[1;33m,\u001b[0m \u001b[0mlevel\u001b[0m\u001b[1;33m)\u001b[0m\u001b[1;33m\u001b[0m\u001b[1;33m\u001b[0m\u001b[0m\n\u001b[0m\u001b[0;32m    128\u001b[0m \u001b[1;33m\u001b[0m\u001b[0m\n\u001b[0;32m    129\u001b[0m \u001b[1;33m\u001b[0m\u001b[0m\n",
      "\u001b[1;32mc:\\users\\t2_2\\miniconda3\\envs\\broadbean\\lib\\importlib\\_bootstrap.py\u001b[0m in \u001b[0;36m_gcd_import\u001b[1;34m(name, package, level)\u001b[0m\n",
      "\u001b[1;32mc:\\users\\t2_2\\miniconda3\\envs\\broadbean\\lib\\importlib\\_bootstrap.py\u001b[0m in \u001b[0;36m_find_and_load\u001b[1;34m(name, import_)\u001b[0m\n",
      "\u001b[1;32mc:\\users\\t2_2\\miniconda3\\envs\\broadbean\\lib\\importlib\\_bootstrap.py\u001b[0m in \u001b[0;36m_find_and_load_unlocked\u001b[1;34m(name, import_)\u001b[0m\n",
      "\u001b[1;32mc:\\users\\t2_2\\miniconda3\\envs\\broadbean\\lib\\importlib\\_bootstrap.py\u001b[0m in \u001b[0;36m_call_with_frames_removed\u001b[1;34m(f, *args, **kwds)\u001b[0m\n",
      "\u001b[1;32mc:\\users\\t2_2\\miniconda3\\envs\\broadbean\\lib\\importlib\\_bootstrap.py\u001b[0m in \u001b[0;36m_gcd_import\u001b[1;34m(name, package, level)\u001b[0m\n",
      "\u001b[1;32mc:\\users\\t2_2\\miniconda3\\envs\\broadbean\\lib\\importlib\\_bootstrap.py\u001b[0m in \u001b[0;36m_find_and_load\u001b[1;34m(name, import_)\u001b[0m\n",
      "\u001b[1;32mc:\\users\\t2_2\\miniconda3\\envs\\broadbean\\lib\\importlib\\_bootstrap.py\u001b[0m in \u001b[0;36m_find_and_load_unlocked\u001b[1;34m(name, import_)\u001b[0m\n",
      "\u001b[1;31mModuleNotFoundError\u001b[0m: No module named 'qcplotutils'"
     ]
    }
   ],
   "source": [
    "data1 = do0d(rec_f1_phase.data)"
   ]
  },
  {
   "cell_type": "code",
   "execution_count": 23,
   "id": "environmental-witness",
   "metadata": {},
   "outputs": [
    {
     "data": {
      "text/plain": [
       "Current values: \n",
       " {'core': {'default_fmt': 'data/{date}/#{counter}_{name}_{time}', 'register_magic': True, 'import_legacy_api': False, 'db_location': 'C:\\\\Users\\\\T2_2\\\\AppData\\\\Local\\\\Temp\\\\data_access_example.db', 'db_debug': False, 'loglevel': 'WARNING', 'file_loglevel': 'INFO'}, 'logger': {'start_logging_on_import': 'if_telemetry_set_up', 'console_level': 'WARNING', 'file_level': 'INFO', 'logger_levels': {'pyvisa': 'INFO'}}, 'subscription': {'subscribers': {'QCPlot': {'factory': 'qcplotutils.qcodes_dataset.QCPlotDatasetSubscriber', 'factory_kwargs': {'log': False}, 'subscription_kwargs': {'min_wait': 0, 'min_count': 1, 'callback_kwargs': {}}}, 'Plottr': {'factory': 'plottr.qcodes_dataset.QcodesDatasetSubscriber', 'factory_kwargs': {'log': False}, 'subscription_kwargs': {'min_wait': 0, 'min_count': 1, 'callback_kwargs': {}}}}, 'default_subscribers': ['QCPlot']}, 'gui': {'notebook': True, 'plotlib': None, 'pyqtmaxplots': 100, 'defaultcolormap': 'hot'}, 'plotting': {'default_color_map': 'viridis', 'rasterize_threshold': 5000, 'auto_color_scale': {'enabled': False, 'cutoff_percentile': [0.5, 0.5], 'color_over': '#a1c4fc', 'color_under': '#017000'}}, 'user': {'scriptfolder': '.', 'mainfolder': '.'}, 'station': {'enable_forced_reconnect': False, 'default_folder': '.', 'default_file': None, 'use_monitor': False}, 'GUID_components': {'location': 0, 'work_station': 0, 'sample': 0}, 'dataset': {'write_in_background': False, 'write_period': 5.0, 'dond_plot': False}, 'telemetry': {'enabled': False, 'instrumentation_key': '00000000-0000-0000-0000-000000000000'}} \n",
       "Current paths: \n",
       " ['c:\\\\users\\\\t2_2\\\\miniconda3\\\\envs\\\\broadbean\\\\lib\\\\site-packages\\\\qcodes\\\\configuration\\\\qcodesrc.json', 'C:\\\\Users\\\\T2_2\\\\qcodesrc.json'] \n",
       "<qcodes.configuration.config.Config object at 0x000002678D7405C8>"
      ]
     },
     "execution_count": 23,
     "metadata": {},
     "output_type": "execute_result"
    }
   ],
   "source": [
    "qc.config"
   ]
  },
  {
   "cell_type": "code",
   "execution_count": null,
   "id": "funny-reply",
   "metadata": {},
   "outputs": [],
   "source": [
    "\n",
    "alazar_ctrl.int_delay(0e-6)\n",
    "alazar_ctrl.int_time(SC.seqbuild.pulse_time)\n",
    "alazar_ctrl.channels.append(channelA_phase)\n",
    "alazar_ctrl.channels.append(channelA_magnitude)\n",
    "alazar_ctrl.channels.append(channelA_real)\n",
    "alazar_ctrl.channels.append(channelA_imag)\n",
    "\n",
    "\n"
   ]
  },
  {
   "cell_type": "code",
   "execution_count": null,
   "id": "clean-rogers",
   "metadata": {},
   "outputs": [],
   "source": [
    "channelA_phase.records_per_buffer(npts)\n",
    "channelA_phase.num_averages(8000)\n",
    "\n",
    "channelA_phase.prepare_channel()\n",
    "# Measure this \n",
    "data1 = do0d(channelA_phase.data)\n",
    "#SC.seqbuild.runAWG()\n",
    "plot_by_id(data1[0].run_id)"
   ]
  },
  {
   "cell_type": "code",
   "execution_count": null,
   "id": "severe-segment",
   "metadata": {},
   "outputs": [],
   "source": [
    "channelA_magnitude.records_per_buffer(npts)\n",
    "channelA_magnitude.num_averages(8000)\n",
    "\n",
    "channelA_magnitude.prepare_channel()\n",
    "# Measure this \n",
    "data1 = do0d(channelA_magnitude.data)\n",
    "#SC.seqbuild.runAWG()\n",
    "plot_by_id(data1[0].run_id)"
   ]
  },
  {
   "cell_type": "code",
   "execution_count": null,
   "id": "dimensional-aging",
   "metadata": {},
   "outputs": [],
   "source": [
    "channelA_magnitude.data.get()"
   ]
  },
  {
   "cell_type": "code",
   "execution_count": null,
   "id": "later-ghana",
   "metadata": {},
   "outputs": [],
   "source": [
    "from qcodes.dataset.data_set import load_by_id\n",
    "data = load_by_id(102)"
   ]
  },
  {
   "cell_type": "code",
   "execution_count": null,
   "id": "understanding-connection",
   "metadata": {},
   "outputs": [],
   "source": [
    "dis = data.snapshot['station']['instruments']['seqbuild']['parameters']['seq']\n",
    "snapseq = bb.Sequence().sequence_from_description(dis)\n",
    "plotter(snapseq.element(50))"
   ]
  },
  {
   "cell_type": "code",
   "execution_count": null,
   "id": "private-origin",
   "metadata": {},
   "outputs": [],
   "source": [
    "dis"
   ]
  },
  {
   "cell_type": "code",
   "execution_count": null,
   "id": "associate-thickness",
   "metadata": {},
   "outputs": [],
   "source": [
    "channelA2.records_per_buffer(npts)\n",
    "channelA2.num_averages(80)\n",
    "\n",
    "channelA2.prepare_channel()\n",
    "# Measure this \n",
    "data1 = do0d(channelA2.data)\n",
    "#SC.seqbuild.runAWG()\n",
    "plot_by_id(data1[0].run_id)"
   ]
  },
  {
   "cell_type": "code",
   "execution_count": null,
   "id": "pending-framework",
   "metadata": {},
   "outputs": [],
   "source": [
    "stop = True"
   ]
  },
  {
   "cell_type": "code",
   "execution_count": null,
   "id": "middle-corruption",
   "metadata": {},
   "outputs": [],
   "source": [
    "%matplotlib notebook\n",
    "import numpy as np\n",
    "import matplotlib.pyplot as plt\n",
    "\n",
    "\n",
    "fig = plt.figure()\n",
    "#fig.set_size_inches(18.5, 10.5)\n",
    "ax = fig.add_subplot(111)\n",
    "plt.ion()\n",
    "\n",
    "fig.show()\n",
    "fig.canvas.draw()\n",
    "#ax.axis('equal')\n",
    "#ax.set_aspect('equal', 'box')\n",
    "stop = False\n",
    "for i in range(100):\n",
    "    if stop:\n",
    "        break\n",
    "    bla = channelA2.data.get()\n",
    "    ax.clear()\n",
    "    ax.imshow(bla)\n",
    "    ax.set_aspect(aspect='auto')\n",
    "    fig.canvas.draw()"
   ]
  },
  {
   "cell_type": "code",
   "execution_count": null,
   "id": "sought-genealogy",
   "metadata": {},
   "outputs": [],
   "source": [
    "alazar.snapshot()"
   ]
  },
  {
   "cell_type": "code",
   "execution_count": null,
   "id": "tutorial-special",
   "metadata": {},
   "outputs": [],
   "source": []
  }
 ],
 "metadata": {
  "kernelspec": {
   "display_name": "Python 3",
   "language": "python",
   "name": "python3"
  },
  "language_info": {
   "codemirror_mode": {
    "name": "ipython",
    "version": 3
   },
   "file_extension": ".py",
   "mimetype": "text/x-python",
   "name": "python",
   "nbconvert_exporter": "python",
   "pygments_lexer": "ipython3",
   "version": "3.7.9"
  }
 },
 "nbformat": 4,
 "nbformat_minor": 5
}
